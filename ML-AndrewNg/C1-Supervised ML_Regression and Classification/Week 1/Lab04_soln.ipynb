{
 "cells": [
  {
   "cell_type": "code",
   "execution_count": 8,
   "metadata": {},
   "outputs": [],
   "source": [
    "import numpy as np\n",
    "%matplotlib widget\n",
    "import matplotlib.pyplot as plt\n",
    "from lab_utils_uni import plt_intuition, plt_stationary, plt_update_onclick, soup_bowl\n",
    "plt.style.use('./deeplearning.mplstyle')\n",
    "\n",
    "# The line `%matplotlib widget` is a magic command in Jupyter Notebook. \n",
    "# Magic commands are special commands that are not part of the Python programming language, \n",
    "# but are added by the IPython interpreter.\n",
    "\n",
    "# This specific command, `%matplotlib widget`, sets the Matplotlib backend to use the \"widget\" backend, \n",
    "# which allows interactive plots. This means that when you plot something using Matplotlib in a Jupyter notebook cell, \n",
    "# the plot will be interactive, allowing you to zoom, pan, and otherwise manipulate the plot directly in the notebook."
   ]
  },
  {
   "cell_type": "code",
   "execution_count": 9,
   "metadata": {},
   "outputs": [],
   "source": [
    "x_train = np.array([1.0, 2.0])           #(size in 1000 square feet)\n",
    "y_train = np.array([300.0, 500.0])           #(price in 1000s of dollars)"
   ]
  },
  {
   "cell_type": "code",
   "execution_count": 10,
   "metadata": {},
   "outputs": [
    {
     "name": "stdout",
     "output_type": "stream",
     "text": [
      "[300. 500.]\n"
     ]
    }
   ],
   "source": [
    "# to compute the final model output given the all inputs and the model parameters (w and b)\n",
    "\n",
    "def compute_model_output_for_all_x(x_train, w, b):\n",
    "\n",
    "    f = np.zeros(x_train.shape[0])\n",
    "\n",
    "    for i in range(x_train.shape[0]):\n",
    "        f[i] = w * x_train[i] + b\n",
    "    \n",
    "    return f\n",
    "\n",
    "\n",
    "f = compute_model_output_for_all_x(x_train, 200, 100)\n",
    "print(f)"
   ]
  },
  {
   "cell_type": "markdown",
   "metadata": {},
   "source": [
    "## Computing Cost\n",
    "The term 'cost' in this assignment might be a little confusing since the data is housing cost. Here, cost is a measure how well our model is predicting the target price of the house. The term 'price' is used for housing data.\n",
    "\n",
    "The equation for cost with one variable is:\n",
    "  $$J(w,b) = \\frac{1}{2m} \\sum\\limits_{i = 0}^{m-1} (f_{w,b}(x^{(i)}) - y^{(i)})^2 \\tag{1}$$ \n",
    " \n",
    "where \n",
    "  $$f_{w,b}(x^{(i)}) = wx^{(i)} + b \\tag{2}$$\n",
    "  \n",
    "- $f_{w,b}(x^{(i)})$ is our prediction for example $i$ using parameters $w,b$.  \n",
    "- $(f_{w,b}(x^{(i)}) -y^{(i)})^2$ is the squared difference between the target value and the prediction.   \n",
    "- These differences are summed over all the $m$ examples and divided by `2m` to produce the cost, $J(w,b)$.  \n",
    ">Note, in lecture summation ranges are typically from 1 to m, while code will be from 0 to m-1."
   ]
  },
  {
   "cell_type": "markdown",
   "metadata": {},
   "source": [
    "The code below calculates cost by looping over each example. In each loop:\n",
    "- `f_wb`, a prediction is calculated\n",
    "- the difference between the target and the prediction is calculated and squared.\n",
    "- this is added to the total cost."
   ]
  },
  {
   "cell_type": "code",
   "execution_count": 11,
   "metadata": {},
   "outputs": [],
   "source": [
    "# now we'll try to compute the cost if we use w=200 and b=100\n",
    "def compute_cost(x_train, y_train, w, b):\n",
    "    cost = 0\n",
    "    m = x_train.shape[0]\n",
    "\n",
    "    f = compute_model_output_for_all_x(x_train, w, b)\n",
    "\n",
    "    for i in range(m):\n",
    "        cost += 0.5 * (f[i] - y_train[i])**2\n",
    "\n",
    "    cost /= m\n",
    "\n",
    "    return cost"
   ]
  },
  {
   "cell_type": "code",
   "execution_count": 14,
   "metadata": {},
   "outputs": [
    {
     "name": "stdout",
     "output_type": "stream",
     "text": [
      "0.0\n"
     ]
    }
   ],
   "source": [
    "w = 200\n",
    "b = 100\n",
    "\n",
    "cost = compute_cost(x_train, y_train, w, b)\n",
    "print(cost)"
   ]
  },
  {
   "cell_type": "markdown",
   "metadata": {},
   "source": [
    "We get minimum cost at w=200 and b=100. But this was done using trial and error.\n",
    "\n",
    "To programatically check which values of w,b will give us minimal cost, we'll use gradient descent. "
   ]
  }
 ],
 "metadata": {
  "kernelspec": {
   "display_name": "Python 3",
   "language": "python",
   "name": "python3"
  },
  "language_info": {
   "codemirror_mode": {
    "name": "ipython",
    "version": 3
   },
   "file_extension": ".py",
   "mimetype": "text/x-python",
   "name": "python",
   "nbconvert_exporter": "python",
   "pygments_lexer": "ipython3",
   "version": "3.12.1"
  }
 },
 "nbformat": 4,
 "nbformat_minor": 2
}
